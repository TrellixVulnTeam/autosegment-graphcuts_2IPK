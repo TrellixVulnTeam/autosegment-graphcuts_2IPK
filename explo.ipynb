{
 "cells": [
  {
   "cell_type": "code",
   "execution_count": null,
   "metadata": {},
   "outputs": [],
   "source": [
    "def compute_energy(partitions, image):\n",
    "    reshaped_image = image.reshape(-1, 3)\n",
    "    unflatten_indexes, edges = get_best_colors(reshaped_image, n_colors=params[\"n_colors\"], bins=params[\"bins\"])\n",
    "    main_colors = get_main_colors(unflatten_indexes, np.array(edges))\n",
    "    distributions = get_distributions(main_colors, image)\n",
    "    \n",
    "    energies = [0] * len(partitions)\n",
    "    for n in tqdm(range(reshaped_image.shape[0])):\n",
    "        pixel = reshaped_image[n]\n",
    "        data_costs = data_cost(pixel, distributions)\n",
    "        neighboors = get_neighboors(n, image.shape[:-1])\n",
    "        for index, partition in enumerate(partitions):\n",
    "            label = get_label(n, partition)\n",
    "            energies[index] += data_costs[label]\n",
    "            for i, j in neighboors:\n",
    "                label_neighboor = get_label(np.ravel_multi_index((i, j), image.shape[:-1]), partition)\n",
    "                cost = smooth_cost(label, label_neighboor, params[\"epsilon\"])\n",
    "                energies[index] += cost\n",
    "    return energies"
   ]
  }
 ],
 "metadata": {
  "interpreter": {
   "hash": "058a26e2ee6a54cf08e3617d26569f9b7f52b961b083960ec0b12b592bc0ebbf"
  },
  "kernelspec": {
   "display_name": "Python 3.9.9 64-bit ('grm')",
   "language": "python",
   "name": "python3"
  },
  "language_info": {
   "codemirror_mode": {
    "name": "ipython",
    "version": 3
   },
   "file_extension": ".py",
   "mimetype": "text/x-python",
   "name": "python",
   "nbconvert_exporter": "python",
   "pygments_lexer": "ipython3",
   "version": "3.9.9"
  },
  "orig_nbformat": 4
 },
 "nbformat": 4,
 "nbformat_minor": 2
}
