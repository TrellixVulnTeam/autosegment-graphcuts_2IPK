{
 "cells": [
  {
   "cell_type": "code",
   "execution_count": null,
   "metadata": {},
   "outputs": [],
   "source": [
    "import matplotlib.pyplot as plt\n",
    "import numpy as np \n",
    "import networkx as nx\n",
    "from tqdm import tqdm\n",
    "\n",
    "from src.maincolors import get_main_colors, show_main_colors"
   ]
  },
  {
   "cell_type": "code",
   "execution_count": null,
   "metadata": {},
   "outputs": [],
   "source": [
    "%load_ext autoreload\n",
    "%autoreload 2"
   ]
  },
  {
   "cell_type": "code",
   "execution_count": null,
   "metadata": {},
   "outputs": [],
   "source": [
    "def read_image(frame: str):\n",
    "    frame = frame.zfill(6)\n",
    "    return plt.imread(\"./data/VOCdevkit/VOC2007/JPEGImages/\" + frame + \".jpg\")"
   ]
  },
  {
   "cell_type": "code",
   "execution_count": null,
   "metadata": {},
   "outputs": [],
   "source": [
    "dummy_image = read_image(\"245\")\n",
    "plt.imshow(dummy_image)"
   ]
  },
  {
   "cell_type": "markdown",
   "metadata": {},
   "source": [
    "# Histogram of colors"
   ]
  },
  {
   "cell_type": "code",
   "execution_count": null,
   "metadata": {},
   "outputs": [],
   "source": [
    "reshaped_image = dummy_image.reshape((-1, 3))\n",
    "main_colors = get_main_colors(reshaped_image, 3, 5)"
   ]
  },
  {
   "cell_type": "code",
   "execution_count": null,
   "metadata": {},
   "outputs": [],
   "source": [
    "show_main_colors(main_colors)"
   ]
  },
  {
   "cell_type": "code",
   "execution_count": null,
   "metadata": {},
   "outputs": [],
   "source": [
    "def compute_masks(main_colors: np.ndarray, image: np.ndarray):\n",
    "    masks = []\n",
    "    for main_color in main_colors:\n",
    "        condition = (image[..., 0] > main_color[0, 0]) & (image[..., 0] < main_color[0, 1])\n",
    "        condition = condition & (image[..., 1] > main_color[1, 0]) & (image[..., 1] < main_color[1, 1])\n",
    "        condition = condition & (image[..., 2] > main_color[2, 0]) & (image[..., 2] < main_color[2, 1])\n",
    "        masks.append(condition)\n",
    "    return masks"
   ]
  },
  {
   "cell_type": "code",
   "execution_count": null,
   "metadata": {},
   "outputs": [],
   "source": [
    "def compute_distributions(masks, image):\n",
    "    distributions = []\n",
    "    for mask in masks:\n",
    "        sub_image = image[mask]\n",
    "        distributions.append(\n",
    "            dict(\n",
    "                mu = np.mean(sub_image, axis=0),\n",
    "                sigma2 = np.var(sub_image, axis=0)\n",
    "            )\n",
    "        )\n",
    "    return distributions"
   ]
  },
  {
   "cell_type": "code",
   "execution_count": null,
   "metadata": {},
   "outputs": [],
   "source": [
    "def show_mask(mask, image):\n",
    "    r = np.where(mask, image[..., 0], 255)[..., np.newaxis]\n",
    "    g = np.where(mask, image[..., 1], 255)[..., np.newaxis]\n",
    "    b = np.where(mask, image[..., 2], 255)[..., np.newaxis]\n",
    "    plt.imshow(np.concatenate([r,g,b], axis=-1))"
   ]
  },
  {
   "cell_type": "code",
   "execution_count": null,
   "metadata": {},
   "outputs": [],
   "source": [
    "masks = compute_masks(main_colors, dummy_image)\n",
    "distributions = compute_distributions(masks, dummy_image)"
   ]
  },
  {
   "cell_type": "code",
   "execution_count": null,
   "metadata": {},
   "outputs": [],
   "source": [
    "for mask in masks:\n",
    "    show_mask(mask, dummy_image)\n",
    "    plt.show()"
   ]
  },
  {
   "cell_type": "code",
   "execution_count": null,
   "metadata": {},
   "outputs": [],
   "source": [
    "distributions"
   ]
  },
  {
   "cell_type": "markdown",
   "metadata": {},
   "source": [
    "# Computing costs"
   ]
  },
  {
   "cell_type": "code",
   "execution_count": null,
   "metadata": {},
   "outputs": [],
   "source": [
    "def data_cost(pixel, distributions):\n",
    "    conditional_probas = []\n",
    "    for distribution in distributions:\n",
    "        mu, sigma2 = distribution[\"mu\"], distribution[\"sigma2\"]\n",
    "        proba = 1/np.sqrt(sigma2) * np.exp(-(pixel - mu) ** 2 / 2 / sigma2)\n",
    "        conditional_probas.append(proba)\n",
    "    conditional_probas = np.array(conditional_probas)\n",
    "    probas = conditional_probas / np.sum(conditional_probas, axis=0)\n",
    "    return - np.sum(np.log(probas), axis=1)"
   ]
  },
  {
   "cell_type": "code",
   "execution_count": null,
   "metadata": {},
   "outputs": [],
   "source": [
    "def smooth_cost(label_1, label_2, epsilon):\n",
    "    if label_1 == label_2:\n",
    "        return 0\n",
    "    else:\n",
    "        return epsilon"
   ]
  },
  {
   "cell_type": "code",
   "execution_count": null,
   "metadata": {},
   "outputs": [],
   "source": [
    "show_main_colors(main_colors)"
   ]
  },
  {
   "cell_type": "code",
   "execution_count": null,
   "metadata": {},
   "outputs": [],
   "source": [
    "data_cost((250, 250, 250), distributions)"
   ]
  },
  {
   "cell_type": "markdown",
   "metadata": {},
   "source": [
    "# Building graph"
   ]
  },
  {
   "cell_type": "code",
   "execution_count": null,
   "metadata": {},
   "outputs": [],
   "source": [
    "def build_base_graph(image):\n",
    "    reshaped_image = image.reshape(-1, 3)\n",
    "    \n",
    "    graph = nx.Graph()\n",
    "    mapping_pixels = dict()\n",
    "        \n",
    "    for n in tqdm(range(reshaped_image.shape[0])):\n",
    "        mapping_pixels[str(n)] = reshaped_image[n]\n",
    "    \n",
    "    graph.add_nodes_from(mapping_pixels.keys())\n",
    "    return graph"
   ]
  },
  {
   "cell_type": "code",
   "execution_count": null,
   "metadata": {},
   "outputs": [],
   "source": [
    "params = {\n",
    "    \"n_colors\": 3,\n",
    "    \"bins\": 5,\n",
    "    \"epsilon\": 30,\n",
    "    \"lambda\": 1/10\n",
    "}\n",
    "\n",
    "main_colors = get_main_colors(reshaped_image, params[\"n_colors\"], params[\"bins\"])\n",
    "masks = compute_masks(main_colors, dummy_image)\n",
    "distributions = compute_distributions(masks, dummy_image)\n",
    "\n",
    "\n",
    "base_graph = build_base_graph(dummy_image)"
   ]
  },
  {
   "cell_type": "code",
   "execution_count": null,
   "metadata": {},
   "outputs": [],
   "source": [
    "def make_arbitrary_partition(image, main_colors):\n",
    "    partition = {k:set() for k in range(len(main_colors))}\n",
    "    reshaped_image = image.reshape(-1, 3)\n",
    "    for n in range(len(reshaped_image)):\n",
    "        pixel = reshaped_image[n]\n",
    "        distances = np.linalg.norm(pixel - np.mean(main_colors, 2), axis=1)\n",
    "        label = np.argmin(distances)\n",
    "        partition[label].add(str(n))\n",
    "        \n",
    "    return partition"
   ]
  },
  {
   "cell_type": "code",
   "execution_count": null,
   "metadata": {},
   "outputs": [],
   "source": [
    "partition = make_arbitrary_partition(dummy_image, main_colors)"
   ]
  },
  {
   "cell_type": "code",
   "execution_count": null,
   "metadata": {},
   "outputs": [],
   "source": [
    "def construct_segmentation(partition, shape):\n",
    "    new_image = np.zeros(shape)\n",
    "    for label in partition:\n",
    "        for node in partition[label]:\n",
    "            if int(node) > -1:\n",
    "                index = np.unravel_index(int(node), shape)\n",
    "                new_image[index] = label\n",
    "    return new_image"
   ]
  },
  {
   "cell_type": "code",
   "execution_count": null,
   "metadata": {},
   "outputs": [],
   "source": [
    "def show_segmentation(image, partition):\n",
    "    shape = image.shape[:-1]\n",
    "    segmented_image = construct_segmentation(partition, shape)\n",
    "    fig, axes = plt.subplots(1, 2, figsize=(10, 10))\n",
    "    axes[0].imshow(image)\n",
    "    axes[0].set_axis_off()\n",
    "    axes[1].imshow(segmented_image)\n",
    "    axes[1].set_axis_off()"
   ]
  },
  {
   "cell_type": "code",
   "execution_count": null,
   "metadata": {},
   "outputs": [],
   "source": [
    "show_segmentation(dummy_image, partition)"
   ]
  },
  {
   "cell_type": "code",
   "execution_count": null,
   "metadata": {},
   "outputs": [],
   "source": [
    "def get_label(n: int, partition: dict):\n",
    "    for label in partition:\n",
    "        if str(n) in partition[label]:\n",
    "            return label\n",
    "    raise ValueError()"
   ]
  },
  {
   "cell_type": "code",
   "execution_count": null,
   "metadata": {},
   "outputs": [],
   "source": [
    "def get_neighboors(flattened_index, shape):\n",
    "    x, y = np.unravel_index(flattened_index, shape)\n",
    "    \n",
    "    i_range = [1]\n",
    "    j_range = [1]\n",
    "    if x == shape[0] - 1:\n",
    "        i_range.remove(1)\n",
    "    if y == shape[1] - 1:\n",
    "        j_range.remove(1)\n",
    "        \n",
    "    neighboors = []\n",
    "    for i in i_range:\n",
    "        for j in j_range:\n",
    "            neighboors.append((x + i, y + j))\n",
    "            \n",
    "    return neighboors"
   ]
  },
  {
   "cell_type": "code",
   "execution_count": null,
   "metadata": {},
   "outputs": [],
   "source": [
    "def add_data_edges(base_graph: nx.Graph, distributions: dict, alpha: int, image: np.ndarray, partition: dict, params: dict):\n",
    "    graph = base_graph.copy()\n",
    "    reshaped_image = image.reshape(-1, 3)\n",
    "    \n",
    "    source = -1 # alpha\n",
    "    target = -2 # non-alpha\n",
    "    \n",
    "    graph.add_nodes_from([str(source), str(target)])\n",
    "    \n",
    "    auxiliary_nodes = []\n",
    "    edges = []\n",
    "    for n in tqdm(range(reshaped_image.shape[0])):\n",
    "        pixel = reshaped_image[n]\n",
    "        data_costs = params[\"lambda\"] * data_cost(pixel, distributions)\n",
    "        edges.append(\n",
    "            (str(n), str(source), dict(capacity = data_costs[alpha]))\n",
    "        )\n",
    "        \n",
    "        label = get_label(n, partition)\n",
    "        \n",
    "        if label == \"alpha\":\n",
    "            edges.append(\n",
    "                (str(n), str(target), dict(capacity = np.inf))\n",
    "            )\n",
    "        else:\n",
    "            label = get_label(n, partition)\n",
    "            edges.append(\n",
    "                (str(n), str(target), dict(capacity = data_costs[label]))\n",
    "            )\n",
    "            \n",
    "        neighboors = get_neighboors(n, image.shape[:-1])\n",
    "        \n",
    "        for i, j in neighboors:\n",
    "            flattened_index = np.ravel_multi_index((i, j), image.shape[:-1])\n",
    "            label_neighboor = get_label(np.ravel_multi_index((i, j), image.shape[:-1]), partition)\n",
    "            \n",
    "            cost = smooth_cost(label, label_neighboor, params[\"epsilon\"])\n",
    "            if label_neighboor != label:\n",
    "                auxiliary_node = f\"auxiliary_{i}_{j}\"\n",
    "                auxiliary_nodes.append(auxiliary_node)\n",
    "                cost_n = smooth_cost(label, alpha, params[\"epsilon\"])\n",
    "                edges.append(\n",
    "                    (str(n), auxiliary_node, dict(capacity=cost_n))\n",
    "                )\n",
    "                cost_neighboor = smooth_cost(label_neighboor, alpha, params[\"epsilon\"])\n",
    "                edges.append(\n",
    "                    (auxiliary_node, str(flattened_index), dict(capacity=cost_neighboor))\n",
    "                )\n",
    "                edges.append(\n",
    "                    (auxiliary_node, target, dict(capacity=cost))\n",
    "                )\n",
    "            \n",
    "    graph.add_nodes_from(auxiliary_nodes)\n",
    "    graph.add_edges_from(edges)\n",
    "    return graph, set(auxiliary_nodes)"
   ]
  },
  {
   "cell_type": "code",
   "execution_count": null,
   "metadata": {},
   "outputs": [],
   "source": [
    "def make_expansion(original_partition, binary_partition, alpha, auxiliary_nodes):\n",
    "    binary_partition = [partition.difference({\"-1\", \"-2\"}.union(auxiliary_nodes)) for partition in binary_partition]\n",
    "    final_partition = dict()\n",
    "    for label in original_partition:\n",
    "        if label != alpha:\n",
    "            final_partition[label] = original_partition[label].intersection(binary_partition[1])\n",
    "        else:\n",
    "            final_partition[label] = original_partition[label].union(binary_partition[0])\n",
    "    return final_partition, binary_partition"
   ]
  },
  {
   "cell_type": "code",
   "execution_count": null,
   "metadata": {},
   "outputs": [],
   "source": [
    "def compute_energy(partition: dict, distributions):\n",
    "    energy = 0 \n",
    "    for n in tqdm(range(reshaped_image.shape[0])):\n",
    "        pixel = reshaped_image[n]\n",
    "        data_costs = data_cost(pixel, distributions)\n",
    "        label = get_label(n, partition)\n",
    "        energy += data_costs[label]\n",
    "        # neighboors = get_neighboors(n, image.shape[:-1])\n",
    "        # for i, j in neighboors:\n",
    "        #     label_pixel = get_label(n, partition)\n",
    "        #     label_neighboor = get_label(np.ravel_multi_index((i, j), image.shape[:-1]), partition)\n",
    "        #     cost = smooth_cost(label_pixel, label_neighboor, params[\"epsilon\"])\n",
    "        #     energy += cost\n",
    "    return energy"
   ]
  },
  {
   "cell_type": "code",
   "execution_count": null,
   "metadata": {},
   "outputs": [],
   "source": [
    "partitions = [partition]\n",
    "for k in range(10):\n",
    "    original_parition = partition\n",
    "    partitions = []\n",
    "    energies = []\n",
    "    for alpha in range(params[\"n_colors\"]):\n",
    "        print(\"Alpha:\", alpha)\n",
    "        new_graph, auxiliary_nodes = add_data_edges(base_graph, distributions, alpha, dummy_image, original_parition, params)\n",
    "        cut_value, binary_partition = nx.algorithms.minimum_cut(new_graph, \"-1\", \"-2\")\n",
    "        new_partition = make_expansion(original_parition, binary_partition, alpha, auxiliary_nodes)\n",
    "        partitions.append(new_partition)\n",
    "        energies.append(compute_energy(new_partition, ))"
   ]
  },
  {
   "cell_type": "code",
   "execution_count": null,
   "metadata": {},
   "outputs": [],
   "source": [
    "original_parition = partition\n",
    "new_partition, o = make_expansion(original_parition, binary_partition, alpha, auxiliary_nodes)"
   ]
  },
  {
   "cell_type": "code",
   "execution_count": null,
   "metadata": {},
   "outputs": [],
   "source": [
    "binary_partition"
   ]
  },
  {
   "cell_type": "code",
   "execution_count": null,
   "metadata": {},
   "outputs": [],
   "source": [
    "show_segmentation(dummy_image, new_partition)"
   ]
  },
  {
   "cell_type": "code",
   "execution_count": null,
   "metadata": {},
   "outputs": [],
   "source": [
    "show_segmentation(dummy_image, new_partition)"
   ]
  },
  {
   "cell_type": "code",
   "execution_count": null,
   "metadata": {},
   "outputs": [],
   "source": [
    "energy = compute_energy(partition, dummy_image)"
   ]
  },
  {
   "cell_type": "code",
   "execution_count": null,
   "metadata": {},
   "outputs": [],
   "source": [
    "energy"
   ]
  },
  {
   "cell_type": "code",
   "execution_count": null,
   "metadata": {},
   "outputs": [],
   "source": [
    "new_energy = compute_energy(new_partition, dummy_image)"
   ]
  },
  {
   "cell_type": "code",
   "execution_count": null,
   "metadata": {},
   "outputs": [],
   "source": [
    "new_energy"
   ]
  },
  {
   "cell_type": "code",
   "execution_count": null,
   "metadata": {},
   "outputs": [],
   "source": [
    "new_energy < energy"
   ]
  },
  {
   "cell_type": "code",
   "execution_count": null,
   "metadata": {},
   "outputs": [],
   "source": [
    "energies = []\n",
    "for partition in partitions:\n",
    "    energies.append(compute_energy(partition, dummy_image))"
   ]
  },
  {
   "cell_type": "code",
   "execution_count": null,
   "metadata": {},
   "outputs": [],
   "source": [
    "plt.plot(energies)"
   ]
  },
  {
   "cell_type": "code",
   "execution_count": null,
   "metadata": {},
   "outputs": [],
   "source": [
    "show_segmentation(dummy_image, partitions[0])"
   ]
  },
  {
   "cell_type": "code",
   "execution_count": null,
   "metadata": {},
   "outputs": [],
   "source": [
    "show_segmentation(dummy_image, partitions[5])"
   ]
  },
  {
   "cell_type": "code",
   "execution_count": null,
   "metadata": {},
   "outputs": [],
   "source": [
    "def compute_energy(partitions, image):\n",
    "    reshaped_image = image.reshape(-1, 3)\n",
    "    unflatten_indexes, edges = get_best_colors(reshaped_image, n_colors=params[\"n_colors\"], bins=params[\"bins\"])\n",
    "    main_colors = get_main_colors(unflatten_indexes, np.array(edges))\n",
    "    distributions = get_distributions(main_colors, image)\n",
    "    \n",
    "    energies = [0] * len(partitions)\n",
    "    for n in tqdm(range(reshaped_image.shape[0])):\n",
    "        pixel = reshaped_image[n]\n",
    "        data_costs = data_cost(pixel, distributions)\n",
    "        neighboors = get_neighboors(n, image.shape[:-1])\n",
    "        for index, partition in enumerate(partitions):\n",
    "            label = get_label(n, partition)\n",
    "            energies[index] += data_costs[label]\n",
    "            for i, j in neighboors:\n",
    "                label_neighboor = get_label(np.ravel_multi_index((i, j), image.shape[:-1]), partition)\n",
    "                cost = smooth_cost(label, label_neighboor, params[\"epsilon\"])\n",
    "                energies[index] += cost\n",
    "    return energies"
   ]
  },
  {
   "cell_type": "code",
   "execution_count": null,
   "metadata": {},
   "outputs": [],
   "source": [
    "energies = compute_energy(partitions, dummy_image)"
   ]
  },
  {
   "cell_type": "code",
   "execution_count": null,
   "metadata": {},
   "outputs": [],
   "source": [
    "plt.plot(energies)"
   ]
  },
  {
   "cell_type": "code",
   "execution_count": null,
   "metadata": {},
   "outputs": [],
   "source": []
  }
 ],
 "metadata": {
  "interpreter": {
   "hash": "058a26e2ee6a54cf08e3617d26569f9b7f52b961b083960ec0b12b592bc0ebbf"
  },
  "kernelspec": {
   "display_name": "Python 3.9.9 64-bit ('grm')",
   "language": "python",
   "name": "python3"
  },
  "language_info": {
   "codemirror_mode": {
    "name": "ipython",
    "version": 3
   },
   "file_extension": ".py",
   "mimetype": "text/x-python",
   "name": "python",
   "nbconvert_exporter": "python",
   "pygments_lexer": "ipython3",
   "version": "3.9.9"
  },
  "orig_nbformat": 4
 },
 "nbformat": 4,
 "nbformat_minor": 2
}
